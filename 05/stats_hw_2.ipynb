{
 "cells": [
  {
   "cell_type": "code",
   "execution_count": 362,
   "metadata": {},
   "outputs": [],
   "source": [
    "import numpy as np\n",
    "import matplotlib.pyplot as plt\n",
    "\n",
    "from scipy import stats\n",
    "from numpy import mean\n",
    "from scipy.stats import ttest_ind\n",
    "from scipy.stats import mannwhitneyu\n",
    "from scipy.stats import rankdata\n",
    "from statsmodels.stats.proportion import proportions_ztest"
   ]
  },
  {
   "cell_type": "markdown",
   "metadata": {},
   "source": [
    "# Задача 1\n",
    "\n",
    "Из партии батареек с номинальным напряжением 12 В наугад выбрано семь штук. Согласно показаниям высокоточного вольтметра, фактически выдаваемое ими напряжение составило: 12,9; 11,6; 13,5; 13,9; 12,1; 11,9; 13,0 В соответственно. Можно ли считать, что среднее напряжение действительно равно 12 В?\n",
    "\n",
    "### Гипотезы:\n",
    "- **Нулевая гипотеза (𝐻_0):** Среднее напряжение ($\\bar{X}$) равно $\\mu_0$ = 12 В.\n",
    "- **Альтернативная гипотеза (𝐻_a):** Среднее напряжение ($\\bar{X}$) $\\neq$ $\\mu_0$ (двусторонний тест)\n",
    "\n",
    "### Уровень значимости:\n",
    "$\\alpha$ = 0.05\n",
    "\n",
    "## Для этого найду:\n",
    "- t-статистику\n",
    "- $p_{value}$"
   ]
  },
  {
   "cell_type": "code",
   "execution_count": 363,
   "metadata": {},
   "outputs": [],
   "source": [
    "sample = np.array([12.9, 11.6, 13.5, 13.9, 12.1, 11.9, 13.0])\n",
    "\n",
    "mu_0 = 12.0"
   ]
  },
  {
   "cell_type": "markdown",
   "metadata": {},
   "source": [
    "Перед использованием Т-статистики нужно проверить, что данные распределены нормально, буду использовать тест Шапиро-Уилка\n",
    "\n",
    "У меня нулевая гипотеза - данные распределены нормально, а альтернативная - распределены не нормально\n",
    "\n",
    "Уровень значимости = 0.05"
   ]
  },
  {
   "cell_type": "code",
   "execution_count": 364,
   "metadata": {},
   "outputs": [
    {
     "name": "stdout",
     "output_type": "stream",
     "text": [
      "Данные нормально распределены\n"
     ]
    }
   ],
   "source": [
    "stat, p_value = stats.shapiro(sample)\n",
    "\n",
    "if p_value > 0.05:\n",
    "    print(\"Данные нормально распределены\")\n",
    "else:\n",
    "    print(\"Данные не нормально распределены\")"
   ]
  },
  {
   "cell_type": "code",
   "execution_count": 365,
   "metadata": {},
   "outputs": [
    {
     "name": "stdout",
     "output_type": "stream",
     "text": [
      "P_value=np.float64(0.07430190210562304), T_stat=np.float64(2.1578017974978794)\n"
     ]
    }
   ],
   "source": [
    "# число степеней свободы:\n",
    "\n",
    "free = len(sample) - 1\n",
    "\n",
    "# Среднее: \n",
    "\n",
    "mean = mean(sample)\n",
    "\n",
    "# Дисперсия\n",
    "\n",
    "diff = []\n",
    "for i in sample:\n",
    "    diff.append((i - mean)**2)\n",
    "\n",
    "S = sum(diff) / (len(sample))\n",
    "\n",
    "# Можно проверить через метод библиотеки numpy, они совпадают\n",
    "\n",
    "S_np = np.var(sample, ddof=1)\n",
    "\n",
    "# Теперь можно рассчитать статистику:\n",
    "\n",
    "T_stat = (mean - mu_0) * np.sqrt(free) / (np.sqrt(S))\n",
    "\n",
    "# и p-value:\n",
    "\n",
    "P_value = 2 * (1 - stats.t.cdf(abs(T_stat), df=free))\n",
    "\n",
    "print(f\"{P_value=}, {T_stat=}\")"
   ]
  },
  {
   "cell_type": "markdown",
   "metadata": {},
   "source": [
    "Или, как показывали на лекции, можно короче:"
   ]
  },
  {
   "cell_type": "code",
   "execution_count": 366,
   "metadata": {},
   "outputs": [
    {
     "name": "stdout",
     "output_type": "stream",
     "text": [
      "p_value=np.float64(0.07430190210562303), t_stat=np.float64(2.1578017974978794)\n"
     ]
    }
   ],
   "source": [
    "t_stat, p_value = stats.ttest_1samp(sample, mu_0)\n",
    "print(f\"{p_value=}, {t_stat=}\")"
   ]
  },
  {
   "cell_type": "code",
   "execution_count": 367,
   "metadata": {},
   "outputs": [
    {
     "name": "stdout",
     "output_type": "stream",
     "text": [
      "Не отклоняю нулевую гипотезу: среднее напряжение = 12 В\n"
     ]
    }
   ],
   "source": [
    "alpha = 0.05\n",
    "if p_value < alpha:\n",
    "    print(\"Отклоняю нулевую гипотезу, то есть среднее напряжение отличается от 12 В\")\n",
    "else:\n",
    "    print(\"Не отклоняю нулевую гипотезу: среднее напряжение = 12 В\")"
   ]
  },
  {
   "cell_type": "markdown",
   "metadata": {},
   "source": [
    "# Задача 2\n",
    "\n",
    "Есть два различных метода определения процентного содержания жира в мясе. Доля жира для 10 образцов мяса была определена каждым из двух методов. Позволяют ли полученные результаты сделать вывод о том, что один метод даёт в среднем более высокие показания, чем другой?\n",
    "\n",
    "| №   | Метод I | Метод II |\n",
    "|-----|---------|----------|\n",
    "| 1   | 23,1    | 22,7     |\n",
    "| 2   | 23,2    | 23,6     |\n",
    "| 3   | 26,5    | 27,1     |\n",
    "| 4   | 26,6    | 27,4     |\n",
    "| 5   | 27,1    | 27,4     |\n",
    "| 6   | 48,3    | 46,8     |\n",
    "| 7   | 40,5    | 40,4     |\n",
    "| 8   | 25,0    | 24,9     |\n",
    "| 9   | 38,4    | 38,1     |\n",
    "| 10  | 23,5    | 23,8     |\n",
    "\n",
    "### Гипотезы:\n",
    "- **Нулевая гипотеза (𝐻_0):** $\\mu_0$ = $\\mu_x - \\mu_y$ = 0 (средняя разность равна 0). То есть разницы в методах нет. \n",
    "- **Альтернативная гипотеза (𝐻_a):** $\\mu_0$ $\\neq$ 0. Разница в методах есть. И тут можно сделать, что $\\mu_0$ $>$ 0 или $\\mu_0$ $<$ 0\n",
    "\n",
    "Вообще в лекции было, но мне через нули как - то интуитивнее понятнее:\n",
    "\n",
    "$H_0 : \\mu_x = \\mu_y$\n",
    "\n",
    "$H_A : \\mu_x \\neq \\mu_y$\n",
    "\n",
    "### Уровень значимости:\n",
    "$\\alpha$ = 0.05\n",
    "\n",
    "## Для этого найду:\n",
    "- t-статистику\n",
    "- $p_{value}$"
   ]
  },
  {
   "cell_type": "markdown",
   "metadata": {},
   "source": [
    "Это одновыборочная задача, потому что наблюдения здесь парные (для одного и того же образца были проведены измерения). Поэтому отличие от предыдущей задачи: просто посчитать разницу для каждого образца. И дальше считать по одновыборочному критерию."
   ]
  },
  {
   "cell_type": "code",
   "execution_count": 368,
   "metadata": {},
   "outputs": [],
   "source": [
    "method_1 = np.array([23.1, 23.2, 26.5, 26.6, 27.1, 48.3, 40.5, 25.0, 38.4, 23.5])\n",
    "method_2 = np.array([22.7, 23.6, 27.1, 27.4, 27.4, 46.8, 40.4, 24.9, 38.1, 23.8])\n",
    "\n",
    "diff_methods = method_1 - method_2\n",
    "mu_0_2 = 0"
   ]
  },
  {
   "cell_type": "code",
   "execution_count": 369,
   "metadata": {},
   "outputs": [
    {
     "name": "stdout",
     "output_type": "stream",
     "text": [
      "Данные нормально распределены\n"
     ]
    }
   ],
   "source": [
    "# Проверка на нормальность:\n",
    "\n",
    "stat, p_value = stats.shapiro(diff_methods)\n",
    "\n",
    "if p_value > 0.05:\n",
    "    print(\"Данные нормально распределены\")\n",
    "else:\n",
    "    print(\"Данные не нормально распределены\")"
   ]
  },
  {
   "cell_type": "code",
   "execution_count": 370,
   "metadata": {},
   "outputs": [
    {
     "name": "stdout",
     "output_type": "stream",
     "text": [
      "P_value_2=np.float64(0.49999999999999933), T_stat_2=np.float64(1.715488497867803e-15)\n"
     ]
    }
   ],
   "source": [
    "# число степеней свободы:\n",
    "\n",
    "free_2 = len(diff_methods) - 1\n",
    "\n",
    "# Среднее: \n",
    "\n",
    "mean_2 = np.mean(diff_methods)\n",
    "\n",
    "# Дисперсия\n",
    "\n",
    "diff_2 = []\n",
    "for i in diff_methods:\n",
    "    diff_2.append((i - mean_2)**2)\n",
    "\n",
    "S_2 = sum(diff_2) / (len(diff_methods))\n",
    "\n",
    "# Можно проверить через метод библиотеки numpy, они совпадают\n",
    "\n",
    "S_np_2 = np.var(diff_methods, ddof=1)\n",
    "\n",
    "# Теперь можно рассчитать статистику:\n",
    "\n",
    "T_stat_2 = (mean_2 - mu_0_2) * np.sqrt(free_2) / (np.sqrt(S_2))\n",
    "\n",
    "# и p-value:\n",
    "\n",
    "P_value_2 = (1 - stats.t.cdf(abs(T_stat_2), df=free_2))\n",
    "\n",
    "print(f\"{P_value_2=}, {T_stat_2=}\")"
   ]
  },
  {
   "cell_type": "code",
   "execution_count": 371,
   "metadata": {},
   "outputs": [
    {
     "name": "stdout",
     "output_type": "stream",
     "text": [
      "t_stat_2=np.float64(1.7154884978678027e-15), p_value_2/2=np.float64(0.49999999999999933)\n"
     ]
    }
   ],
   "source": [
    "t_stat_2, p_value_2 = stats.ttest_1samp(diff_methods, mu_0_2)\n",
    "print(f\"{t_stat_2=}, {p_value_2/2=}\")"
   ]
  },
  {
   "cell_type": "code",
   "execution_count": 372,
   "metadata": {},
   "outputs": [
    {
     "name": "stdout",
     "output_type": "stream",
     "text": [
      "Не отклоняю нулевую гипотезу: разницы в методах нет\n"
     ]
    }
   ],
   "source": [
    "alpha = 0.05\n",
    "if P_value_2 < alpha:\n",
    "    print(\"Отклоняю нулевую гипотезу, то есть разница в методах есть\")\n",
    "else:\n",
    "    print(\"Не отклоняю нулевую гипотезу: разницы в методах нет\")"
   ]
  },
  {
   "cell_type": "markdown",
   "metadata": {},
   "source": [
    "# Задача 3\n",
    "\n",
    "Для проверки гипотезы о том, что жители городов имеют в среднем более высокое систолическое артериальное давление, чем жители сельской местности, было проведено обследование 10 горожан и 9 жителей села примерно одного возраста. Получены следующие данные об уровне давления для горожан: 132, 111, 119, 138, 200, 131, 138, 170, 159, 140; для селян: 115, 190, 127, 155, 148, 121, 116, 121, 197. Можно ли считать верной выдвинутую гипотезу на уровне значимости 0,05?\n",
    "\n",
    "### Гипотезы:\n",
    "- **Нулевая гипотеза (𝐻_0):** Давление жителей города равно давлению жителей сельской местности, то есть $\\mu_x = \\mu_y$.\n",
    "- **Альтернативная гипотеза (𝐻_a):** Давление жителей города выше: $\\mu_x > \\mu_y$ (односторонний тест)\n",
    "\n",
    "### Уровень значимости:\n",
    "$\\alpha$ = 0.05\n",
    "\n",
    "## Для этого найду:\n",
    "- t-статистику\n",
    "- $p_{value}$"
   ]
  },
  {
   "cell_type": "code",
   "execution_count": 373,
   "metadata": {},
   "outputs": [],
   "source": [
    "village = np.array([115, 190, 127, 155, 148, 121, 116, 121, 197])\n",
    "city = np.array([132, 111, 119, 138, 200, 131, 138, 170, 159, 140])"
   ]
  },
  {
   "cell_type": "markdown",
   "metadata": {},
   "source": [
    "Перед использованием Т-статистики нужно проверить, что данные распределены нормально, буду использовать тест Шапиро-Уилка\n",
    "\n",
    "У меня нулевая гипотеза - данные распределены нормально, а альтернативная - распределены не нормально\n",
    "\n",
    "Уровень значимости = 0.05"
   ]
  },
  {
   "cell_type": "code",
   "execution_count": 374,
   "metadata": {},
   "outputs": [
    {
     "name": "stdout",
     "output_type": "stream",
     "text": [
      "Данные селян не нормально распределены\n"
     ]
    }
   ],
   "source": [
    "stat_vil, p_value_vil = stats.shapiro(village)\n",
    "\n",
    "if p_value_vil > 0.05:\n",
    "    print(\"Данные селян нормально распределены\")\n",
    "else:\n",
    "    print(\"Данные селян не нормально распределены\")"
   ]
  },
  {
   "cell_type": "code",
   "execution_count": 375,
   "metadata": {},
   "outputs": [
    {
     "name": "stdout",
     "output_type": "stream",
     "text": [
      "Данные горожан нормально распределены\n"
     ]
    }
   ],
   "source": [
    "stat_city, p_value_city = stats.shapiro(city)\n",
    "\n",
    "if p_value_city > 0.05:\n",
    "    print(\"Данные горожан нормально распределены\")\n",
    "else:\n",
    "    print(\"Данные горожан не нормально распределены\")"
   ]
  },
  {
   "cell_type": "markdown",
   "metadata": {},
   "source": [
    "Мне кажется, тут прям видно, что они идут со сдвигом, а это как раз про Манна-Уитни"
   ]
  },
  {
   "cell_type": "code",
   "execution_count": 376,
   "metadata": {},
   "outputs": [
    {
     "data": {
      "text/plain": [
       "Text(0.5, 0, 'Номер человека')"
      ]
     },
     "execution_count": 376,
     "metadata": {},
     "output_type": "execute_result"
    },
    {
     "data": {
      "image/png": "[encoded data removed]",
      "text/plain": [
       "<Figure size 640x480 with 1 Axes>"
      ]
     },
     "metadata": {},
     "output_type": "display_data"
    }
   ],
   "source": [
    "plt.plot(village)\n",
    "plt.plot(city)\n",
    "plt.ylabel('Давление')\n",
    "plt.xlabel('Номер человека')"
   ]
  },
  {
   "cell_type": "markdown",
   "metadata": {},
   "source": [
    "Поскольку данные о давлении селян не распределены нормально, применю тест Манна-Уитни. Этот тест используется для сравнения медиан двух независимых выборок, когда распределения не нормальны. Еще и от выбросов обезопасит (вдруг в городе есть женщина, у которой постоянно очень высокое давление)"
   ]
  },
  {
   "cell_type": "code",
   "execution_count": 377,
   "metadata": {},
   "outputs": [],
   "source": [
    "stat_mw, p_value_mw = mannwhitneyu(city, village, alternative='greater')\n",
    "\n",
    "# alternative='greater' означает, что я тестирую гипотезу о том, что среднее значение давления у горожан больше, чем у селян"
   ]
  },
  {
   "cell_type": "code",
   "execution_count": 378,
   "metadata": {},
   "outputs": [
    {
     "name": "stdout",
     "output_type": "stream",
     "text": [
      "Не отклоняю нулевую гипотезу: разницы в давлениях нет\n"
     ]
    }
   ],
   "source": [
    "if p_value_mw < alpha:\n",
    "    print(\"Отклоняю нулевую гипотезу, то есть разница в давлениях есть: давление горожан больше, чем у селян\")\n",
    "else:\n",
    "    print(\"Не отклоняю нулевую гипотезу: разницы в давлениях нет\")"
   ]
  },
  {
   "cell_type": "markdown",
   "metadata": {},
   "source": [
    "Можно еще ручками закодить:"
   ]
  },
  {
   "cell_type": "code",
   "execution_count": 379,
   "metadata": {},
   "outputs": [
    {
     "name": "stdout",
     "output_type": "stream",
     "text": [
      "U-статистика: 51.0\n"
     ]
    }
   ],
   "source": [
    "X = np.concatenate((city, village))\n",
    "\n",
    "X_sorted = sorted(X)\n",
    "\n",
    "ranks = {value: rank + 1 for rank, value in enumerate(X_sorted)}\n",
    "\n",
    "# Присвою ранг каждому элементу в исходном массиве:\n",
    "\n",
    "ranked_X = [ranks[value] for value in X]\n",
    "\n",
    "# Разделение рангов по группам\n",
    "m_city = len(city)\n",
    "n_village = len(village)\n",
    "\n",
    "R1 = np.sum(ranked_X[:m_city])\n",
    "R2 = np.sum(ranked_X[m_city:])\n",
    "\n",
    "# Расчет U-статистики\n",
    "U1 = R1 - (m_city * (m_city + 1)) / 2\n",
    "U2 = R2 - (n_village * (n_village + 1)) / 2\n",
    "\n",
    "print(f\"U-статистика: {U1}\")"
   ]
  },
  {
   "cell_type": "markdown",
   "metadata": {},
   "source": [
    "У меня статистика отличается, я думаю, это связано с повторяющимися значениями в массивах (присваиваются одинаковые ранги), чтобы дисперсия прям хорошо сошлась, можно использовать метод rankdata:"
   ]
  },
  {
   "cell_type": "code",
   "execution_count": 380,
   "metadata": {},
   "outputs": [
    {
     "name": "stdout",
     "output_type": "stream",
     "text": [
      "U-статистика: 50.0\n"
     ]
    }
   ],
   "source": [
    "ranks = rankdata(X)\n",
    "\n",
    "R1 = np.sum(ranks[:m_city])\n",
    "R2 = np.sum(ranks[m_city:])\n",
    "\n",
    "U1 = R1 - (m_city * (m_city + 1)) / 2\n",
    "U2 = R2 - (n_village * (n_village + 1)) / 2\n",
    "\n",
    "print(f\"U-статистика: {U1}\")"
   ]
  },
  {
   "cell_type": "markdown",
   "metadata": {},
   "source": [
    "Интересно, что через значение t-критерия тоже получается, что не отклоняем нулевую гипотезу:"
   ]
  },
  {
   "cell_type": "code",
   "execution_count": 381,
   "metadata": {},
   "outputs": [
    {
     "name": "stdout",
     "output_type": "stream",
     "text": [
      "Не отклоняю нулевую гипотезу: разницы в давлениях нет\n"
     ]
    }
   ],
   "source": [
    "t_stat, p_value = ttest_ind(city, village, alternative='greater')\n",
    "\n",
    "if p_value < alpha:\n",
    "    print(\"Отклоняю нулевую гипотезу, то есть разница в давлениях есть: давление горожан больше, чем у селян\")\n",
    "else:\n",
    "    print(\"Не отклоняю нулевую гипотезу: разницы в давлениях нет\")"
   ]
  },
  {
   "cell_type": "markdown",
   "metadata": {},
   "source": [
    "# Задача 4\n",
    "\n",
    "Известно, что 52% новорождённых детей — мальчики, а 48% — девочки. В случайной выборке из 5 000 человек в возрасте от 30 до 60 лет мужчин оказалось 2 500. Можно ли на уровне значимости 0,05 считать, основываясь на этих данных, что смертность среди мужчин и женщин одинакова?\n",
    "\n",
    "### Гипотезы:\n",
    "- **Нулевая гипотеза (𝐻_0):** Доля взрослых мужчин в выборке соответствует доле мальчиков среди новорожденных (p = 0.52).\n",
    "- **Альтернативная гипотеза (𝐻_a):** Доля взрослых мужчин в выборке НЕ соответствует доле мальчиков среди новорожденных (p $\\neq$ 0.52).\n",
    "\n",
    "Уровень значимости $\\alpha  =0.05$"
   ]
  },
  {
   "cell_type": "markdown",
   "metadata": {},
   "source": [
    "Сначала проверю, что я могу применить нормальное распределение:"
   ]
  },
  {
   "cell_type": "code",
   "execution_count": 382,
   "metadata": {},
   "outputs": [
    {
     "name": "stdout",
     "output_type": "stream",
     "text": [
      "Можно применять норм распределение\n"
     ]
    }
   ],
   "source": [
    "N = 5000\n",
    "p_0 = 0.52\n",
    "man = 2500\n",
    "\n",
    "if N * p_0 >= 5 and N * (1 - p_0) >= 5:\n",
    "    print(\"Можно применять норм распределение\")\n",
    "else:\n",
    "    print(\"Нормальное распределение применять нельзя\")"
   ]
  },
  {
   "cell_type": "markdown",
   "metadata": {},
   "source": [
    "Статистику рассчитаем как:\n",
    "\n",
    "$Z = \\frac{\\bar{p} - p_0}{var} = \\frac{\\bar{p} - p_0}{\\sqrt{\\frac{p_0(1 - p_0)}{N}}}$\n",
    "\n",
    "$\\bar{p}$ -  выборочная пропорция мужчин"
   ]
  },
  {
   "cell_type": "code",
   "execution_count": 383,
   "metadata": {},
   "outputs": [],
   "source": [
    "p_ = man/N\n",
    "var = np.sqrt((p_0*(1-p_0))/N)\n",
    "stats_z = (p_ - p_0)/var"
   ]
  },
  {
   "cell_type": "markdown",
   "metadata": {},
   "source": [
    "Поскольку у нас большая выборка, то просто берем значение для критической области |1.96|\n",
    "\n",
    "var = -2.83 = >  попадаем в критическую область, то есть Z = −2.83 < −1.96\n",
    "\n",
    "Чтобы найти p_value, нужно получить вероятность P(Z < −2.83)\n",
    "\n",
    "Вероятность P(Z < −2.83) — это площадь под кривой нормального распределения слева от точки Z=−2.83 (в целом можно и справа, у нас же все симметрично).\n",
    "\n",
    "С помощью калькулятора (https://stattrek.com/online-calculator/normal) нашла P(Z < −2.83) $\\approx$ 0.00233\n",
    "\n",
    "Использовала параметры:\n",
    "\n",
    "Mean (среднее): 0,\n",
    "Standard deviation (стандартное отклонение): 1,\n",
    "X value (значение Z): -2.83.\n",
    "\n",
    "\n",
    "p_value = 2*P(Z < −2.83) = 2 * 0.00233 = 0.00466\n",
    "\n",
    "### H_0 Гипотезу отклоняю"
   ]
  },
  {
   "cell_type": "code",
   "execution_count": 385,
   "metadata": {},
   "outputs": [
    {
     "name": "stdout",
     "output_type": "stream",
     "text": [
      "z-статистика: -2.83\n",
      "p-значение: 0.005\n",
      "Отклоняю нулевую гипотезу, смертность различна среди мужчин и женщин\n"
     ]
    }
   ],
   "source": [
    "stat, p_value = proportions_ztest(count=man, nobs=N, value=p_0, alternative='two-sided')\n",
    "\n",
    "print(f\"z-статистика: {stat:.2f}\")\n",
    "print(f\"p-значение: {p_value:.3f}\")\n",
    "\n",
    "if p_value < alpha:\n",
    "    print(\"Отклоняю нулевую гипотезу, смертность различна среди мужчин и женщин\")\n",
    "else:\n",
    "    print(\"Не отклоняю нулевую гипотезу: смертность среди мужчин и женщин одинакова\")"
   ]
  },
  {
   "cell_type": "markdown",
   "metadata": {},
   "source": [
    "# Задача 5\n",
    "\n",
    "В первом эксперименте для сравнения двух средних X1=17, X2=16 применялся t-критерий Стьюдента, и эти различия оказались значимы (p = 0,001)\n",
    "\n",
    "Во втором исследовании, также при помощи t - критерия, сравнивались два средних X1=17, X2=36, и эти различия не значимы при p = 0,8. В чем может быть причина таких результатов, при условии, что нулевая и альтернативная гипотезы в обоих случаях одинаковы?"
   ]
  },
  {
   "cell_type": "markdown",
   "metadata": {},
   "source": [
    "1) во - первых, может сильно влиять объем выборки. Если в первом эксперименте выборки были большими, то t-критерий мог выявить значимые различия даже при небольшой разнице средних. А во втором эксперименте наоборт, выборка могла быть очень маленькой, поэтому сразу уменьшается чувствительность теста к разности средних.\n",
    "\n",
    "Зависимость такая: СКО больше, при меньших n, а большое СКО приводит к меньшему значению t-статистики, а значит, к большему p_value.\n",
    "\n",
    "2) Также может быть такое, что во втором эксперименте данные содержали выбросы, которые увеличили стандартное отклонение\n",
    "\n",
    "3) Еще может быть проблема в типах гипотез (двусторонняя или односторонняя). Например, оба эксперимента могли использовать односторонние тесты, но разное направление гипотезы. Тогда $H_a : X_1 > X_2$ не то же самое, что $H_a : X_1 < X_2$"
   ]
  }
 ],
 "metadata": {
  "kernelspec": {
   "display_name": ".venv",
   "language": "python",
   "name": "python3"
  },
  "language_info": {
   "codemirror_mode": {
    "name": "ipython",
    "version": 3
   },
   "file_extension": ".py",
   "mimetype": "text/x-python",
   "name": "python",
   "nbconvert_exporter": "python",
   "pygments_lexer": "ipython3",
   "version": "3.12.6"
  }
 },
 "nbformat": 4,
 "nbformat_minor": 2
}
